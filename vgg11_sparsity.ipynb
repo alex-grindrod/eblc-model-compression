{
 "cells": [
  {
   "cell_type": "code",
   "execution_count": 1,
   "id": "38e925cf",
   "metadata": {
    "execution": {
     "iopub.execute_input": "2024-06-05T10:44:33.042141Z",
     "iopub.status.busy": "2024-06-05T10:44:33.041847Z",
     "iopub.status.idle": "2024-06-05T10:44:46.418979Z",
     "shell.execute_reply": "2024-06-05T10:44:46.417862Z"
    },
    "papermill": {
     "duration": 13.390634,
     "end_time": "2024-06-05T10:44:46.421424",
     "exception": false,
     "start_time": "2024-06-05T10:44:33.030790",
     "status": "completed"
    },
    "tags": []
   },
   "outputs": [
    {
     "name": "stdout",
     "output_type": "stream",
     "text": [
      "Collecting zfpy\r\n",
      "  Downloading zfpy-1.0.0-cp310-cp310-manylinux_2_17_x86_64.manylinux2014_x86_64.whl.metadata (648 bytes)\r\n",
      "Downloading zfpy-1.0.0-cp310-cp310-manylinux_2_17_x86_64.manylinux2014_x86_64.whl (729 kB)\r\n",
      "\u001b[2K   \u001b[90m━━━━━━━━━━━━━━━━━━━━━━━━━━━━━━━━━━━━━━━━\u001b[0m \u001b[32m729.2/729.2 kB\u001b[0m \u001b[31m8.8 MB/s\u001b[0m eta \u001b[36m0:00:00\u001b[0m\r\n",
      "\u001b[?25h\u001b[33mWARNING: Error parsing requirements for aiohttp: [Errno 2] No such file or directory: '/opt/conda/lib/python3.10/site-packages/aiohttp-3.9.1.dist-info/METADATA'\u001b[0m\u001b[33m\r\n",
      "\u001b[0mInstalling collected packages: zfpy\r\n",
      "Successfully installed zfpy-1.0.0\r\n"
     ]
    }
   ],
   "source": [
    "! pip install zfpy"
   ]
  },
  {
   "cell_type": "code",
   "execution_count": 2,
   "id": "483a5fe3",
   "metadata": {
    "execution": {
     "iopub.execute_input": "2024-06-05T10:44:46.444771Z",
     "iopub.status.busy": "2024-06-05T10:44:46.443996Z",
     "iopub.status.idle": "2024-06-05T10:44:53.258599Z",
     "shell.execute_reply": "2024-06-05T10:44:53.257467Z"
    },
    "papermill": {
     "duration": 6.828376,
     "end_time": "2024-06-05T10:44:53.260753",
     "exception": false,
     "start_time": "2024-06-05T10:44:46.432377",
     "status": "completed"
    },
    "tags": []
   },
   "outputs": [
    {
     "name": "stdout",
     "output_type": "stream",
     "text": [
      "cuda\n"
     ]
    }
   ],
   "source": [
    "import torch\n",
    "import torch.nn.utils.prune as prune\n",
    "import torchvision.models as models\n",
    "from torchvision.models import VGG11_Weights\n",
    "import numpy as np\n",
    "import zfpy\n",
    "import matplotlib.pyplot as plt\n",
    "import seaborn as sns\n",
    "import copy\n",
    "from tabulate import tabulate\n",
    "import pandas as pd\n",
    "import pickle\n",
    "import os\n",
    "import torch.nn as nn\n",
    "from torchvision import datasets, transforms\n",
    "from torch.utils.data.sampler import SubsetRandomSampler\n",
    "from tqdm import tqdm\n",
    "import json\n",
    "from io import StringIO\n",
    "\n",
    "\n",
    "device = torch.device('cuda' if torch.cuda.is_available() else 'cpu')\n",
    "print(device)"
   ]
  },
  {
   "cell_type": "code",
   "execution_count": 3,
   "id": "c9c9c650",
   "metadata": {
    "execution": {
     "iopub.execute_input": "2024-06-05T10:44:53.283687Z",
     "iopub.status.busy": "2024-06-05T10:44:53.283204Z",
     "iopub.status.idle": "2024-06-05T10:44:53.287703Z",
     "shell.execute_reply": "2024-06-05T10:44:53.286892Z"
    },
    "papermill": {
     "duration": 0.01782,
     "end_time": "2024-06-05T10:44:53.289647",
     "exception": false,
     "start_time": "2024-06-05T10:44:53.271827",
     "status": "completed"
    },
    "tags": []
   },
   "outputs": [],
   "source": [
    "TRAIN = False\n",
    "PRUNE = True\n",
    "PRUNE_LOAD = False\n",
    "TRAIN_LOAD = False\n",
    "TEST_JSON = 'test_data.json'\n",
    "PRUNE_DATA_JSON = 'prune_data.json'\n",
    "MODEL_PATH = '/kaggle/input/190-tolerance/org_model.pkl'"
   ]
  },
  {
   "cell_type": "markdown",
   "id": "2a447f9d",
   "metadata": {
    "papermill": {
     "duration": 0.009997,
     "end_time": "2024-06-05T10:44:53.309819",
     "exception": false,
     "start_time": "2024-06-05T10:44:53.299822",
     "status": "completed"
    },
    "tags": []
   },
   "source": [
    "### Helper Functions"
   ]
  },
  {
   "cell_type": "code",
   "execution_count": 4,
   "id": "dba8c935",
   "metadata": {
    "execution": {
     "iopub.execute_input": "2024-06-05T10:44:53.331933Z",
     "iopub.status.busy": "2024-06-05T10:44:53.331644Z",
     "iopub.status.idle": "2024-06-05T10:44:53.337403Z",
     "shell.execute_reply": "2024-06-05T10:44:53.336640Z"
    },
    "papermill": {
     "duration": 0.019273,
     "end_time": "2024-06-05T10:44:53.339244",
     "exception": false,
     "start_time": "2024-06-05T10:44:53.319971",
     "status": "completed"
    },
    "tags": []
   },
   "outputs": [],
   "source": [
    "def print_statistics(model):\n",
    "    all_statistics = []\n",
    "    for name, param in model.named_parameters():\n",
    "        if 'weight' in name:\n",
    "            weights = param.data.flatten()\n",
    "            statistics = {\n",
    "                'Layer': name,\n",
    "                'Mean': weights.mean().item(),\n",
    "                'Standard Deviation': weights.std().item(),\n",
    "                'Min': weights.min().item(),\n",
    "                'Max': weights.max().item()\n",
    "            }\n",
    "            all_statistics.append(statistics)\n",
    "    \n",
    "    df = pd.DataFrame(all_statistics)\n",
    "    return df"
   ]
  },
  {
   "cell_type": "code",
   "execution_count": 5,
   "id": "d5c01a1c",
   "metadata": {
    "execution": {
     "iopub.execute_input": "2024-06-05T10:44:53.361483Z",
     "iopub.status.busy": "2024-06-05T10:44:53.361222Z",
     "iopub.status.idle": "2024-06-05T10:44:53.370424Z",
     "shell.execute_reply": "2024-06-05T10:44:53.369648Z"
    },
    "papermill": {
     "duration": 0.02249,
     "end_time": "2024-06-05T10:44:53.372323",
     "exception": false,
     "start_time": "2024-06-05T10:44:53.349833",
     "status": "completed"
    },
    "tags": []
   },
   "outputs": [],
   "source": [
    "def plot_weight_distribution(model, tolerance=1e-3, base=False, prune=-1, prune_zfp=False, bins=100):\n",
    "    model = model.cpu()\n",
    "    fig, axes = plt.subplots(2, 4, figsize=(16, 8))\n",
    "    \n",
    "    if base:\n",
    "        fig.suptitle(f'Weight Distribution of Original Feature Weights')\n",
    "    elif prune > -1:\n",
    "        if prune_zfp:\n",
    "            fig.suptitle(f'Weight Distribution of Feature Weights (ZFP {100*prune} pruned) (Tolerance {tolerance})')\n",
    "        else:\n",
    "            fig.suptitle(f'Weight Distribution of Feature Weights (Base {100*prune} pruned) (Tolerance {tolerance})')\n",
    "    else:\n",
    "        fig.suptitle(f'Weight Distribution of only Feature Weights (Tolerance {tolerance})')\n",
    "\n",
    "    plt.subplots_adjust(left=0.1, right=0.9, top=0.9, bottom=0.1, wspace=0.4, hspace=0.4)\n",
    "    \n",
    "    with pd.option_context('mode.use_inf_as_na', True):\n",
    "        i = 0\n",
    "        for name, param in model.named_parameters():\n",
    "            if 'weight' in name and 'features' in name:\n",
    "                weights = param.data.flatten()\n",
    "\n",
    "                # Plot histogram for this layer\n",
    "                ax = axes[i//4, i%4]\n",
    "                sns.histplot(weights, bins=bins, kde=True, ax=ax)\n",
    "                ax.set_title(f'{name}')\n",
    "                ax.set_xlabel('Weight Value')\n",
    "                ax.set_ylabel('Frequency')\n",
    "                ax.set_yscale('log')\n",
    "\n",
    "                i += 1"
   ]
  },
  {
   "cell_type": "code",
   "execution_count": 6,
   "id": "901645fd",
   "metadata": {
    "execution": {
     "iopub.execute_input": "2024-06-05T10:44:53.395236Z",
     "iopub.status.busy": "2024-06-05T10:44:53.394988Z",
     "iopub.status.idle": "2024-06-05T10:44:53.403008Z",
     "shell.execute_reply": "2024-06-05T10:44:53.402141Z"
    },
    "papermill": {
     "duration": 0.020792,
     "end_time": "2024-06-05T10:44:53.404871",
     "exception": false,
     "start_time": "2024-06-05T10:44:53.384079",
     "status": "completed"
    },
    "tags": []
   },
   "outputs": [],
   "source": [
    "# classifier.0.weight 102760448\n",
    "# classifier.3.weight 16777216\n",
    "# classifier.6.weight 4096000\n",
    "\n",
    "def plot_classifier_distribution(model, tolerance=1e-3, base=False, prune=-1, prune_zfp=False, bins=100, classifier_num=6):\n",
    "    model = model.cpu()\n",
    "    plt.figure(figsize=(8, 6))\n",
    "    \n",
    "    layer_name = ''\n",
    "    with pd.option_context('mode.use_inf_as_na', True):\n",
    "        for name, param in model.named_parameters():\n",
    "            if 'classifier' in name and str(classifier_num) in name:\n",
    "                weights = param.data.flatten()\n",
    "\n",
    "                # Plot histogram for this layer\n",
    "                sns.histplot(weights, bins=bins, kde=True)\n",
    "                layer_name = name\n",
    "                plt.xlabel('Weight Value')\n",
    "                plt.ylabel('Frequency')\n",
    "                plt.yscale('log')\n",
    "\n",
    "                break\n",
    "        \n",
    "    if base:\n",
    "        plt.title(f'Weight Distribution of {layer_name}')\n",
    "    elif prune > -1:\n",
    "        if prune_zfp:\n",
    "            plt.title(f'Weight Distribution of {layer_name} (ZFP {100*prune} pruned) (Tolerance {tolerance})')\n",
    "        else:\n",
    "            plt.title(f'Weight Distribution of {layer_name} (Base {100*prune} pruned) (Tolerance {tolerance})')\n",
    "    else:\n",
    "        plt.title(f'Weight Distribution of {layer_name} (Tolerance {tolerance})')\n",
    "\n",
    "    plt.show()"
   ]
  },
  {
   "cell_type": "code",
   "execution_count": 7,
   "id": "c992dd97",
   "metadata": {
    "execution": {
     "iopub.execute_input": "2024-06-05T10:44:53.426429Z",
     "iopub.status.busy": "2024-06-05T10:44:53.426158Z",
     "iopub.status.idle": "2024-06-05T10:44:53.431712Z",
     "shell.execute_reply": "2024-06-05T10:44:53.430794Z"
    },
    "papermill": {
     "duration": 0.018483,
     "end_time": "2024-06-05T10:44:53.433509",
     "exception": false,
     "start_time": "2024-06-05T10:44:53.415026",
     "status": "completed"
    },
    "tags": []
   },
   "outputs": [],
   "source": [
    "def compare_model_stats(model, copied_model):\n",
    "    res = pd.DataFrame()\n",
    "    res['Layer'] = model['Layer']\n",
    "    res['MSE Mean'] = (model['Mean'] - copied_model['Mean'])**2\n",
    "    res['MSE SD'] = (model['Standard Deviation'] - copied_model['Standard Deviation'])**2\n",
    "    res['MSE Min'] = (model['Min'] - copied_model['Min'])**2\n",
    "    res['MSE Max'] = (model['Max'] - copied_model['Max'])**2\n",
    "    \n",
    "    return res"
   ]
  },
  {
   "cell_type": "code",
   "execution_count": 8,
   "id": "6aec17a5",
   "metadata": {
    "execution": {
     "iopub.execute_input": "2024-06-05T10:44:53.455104Z",
     "iopub.status.busy": "2024-06-05T10:44:53.454830Z",
     "iopub.status.idle": "2024-06-05T10:44:53.459862Z",
     "shell.execute_reply": "2024-06-05T10:44:53.459066Z"
    },
    "papermill": {
     "duration": 0.018128,
     "end_time": "2024-06-05T10:44:53.461803",
     "exception": false,
     "start_time": "2024-06-05T10:44:53.443675",
     "status": "completed"
    },
    "tags": []
   },
   "outputs": [],
   "source": [
    "def save_pkl(file: str, state_dict: dict) -> float:\n",
    "    with open(file, 'wb') as f:\n",
    "        pickle.dump(state_dict, f)\n",
    "    return os.path.getsize(file)\n",
    "        \n",
    "def load_pkl(file: str) -> dict:\n",
    "    with open(file, 'rb') as f:\n",
    "        return pickle.load(f)"
   ]
  },
  {
   "cell_type": "markdown",
   "id": "0e44c8e2",
   "metadata": {
    "papermill": {
     "duration": 0.010231,
     "end_time": "2024-06-05T10:44:53.482329",
     "exception": false,
     "start_time": "2024-06-05T10:44:53.472098",
     "status": "completed"
    },
    "tags": []
   },
   "source": [
    "### Compress and Decompress functions using ZFP"
   ]
  },
  {
   "cell_type": "code",
   "execution_count": 9,
   "id": "907ca2ca",
   "metadata": {
    "execution": {
     "iopub.execute_input": "2024-06-05T10:44:53.504370Z",
     "iopub.status.busy": "2024-06-05T10:44:53.504087Z",
     "iopub.status.idle": "2024-06-05T10:44:53.509197Z",
     "shell.execute_reply": "2024-06-05T10:44:53.508350Z"
    },
    "papermill": {
     "duration": 0.018181,
     "end_time": "2024-06-05T10:44:53.511024",
     "exception": false,
     "start_time": "2024-06-05T10:44:53.492843",
     "status": "completed"
    },
    "tags": []
   },
   "outputs": [],
   "source": [
    "# Function to compress tensor using ZFP\n",
    "def compress_tensor(tensor, tolerance=1e-3):\n",
    "    array = tensor.cpu().numpy()  # Convert tensor to numpy array\n",
    "    compressed = zfpy.compress_numpy(array, tolerance=tolerance)\n",
    "    return compressed\n",
    "\n",
    "# Function to decompress tensor using ZFP\n",
    "def decompress_tensor(compressed, original_shape):\n",
    "    decompressed = zfpy.decompress_numpy(compressed)\n",
    "    tensor = torch.tensor(decompressed).reshape(original_shape)\n",
    "    return tensor"
   ]
  },
  {
   "cell_type": "markdown",
   "id": "e15ab7dc",
   "metadata": {
    "papermill": {
     "duration": 0.009815,
     "end_time": "2024-06-05T10:44:53.530931",
     "exception": false,
     "start_time": "2024-06-05T10:44:53.521116",
     "status": "completed"
    },
    "tags": []
   },
   "source": [
    "### Train VGG11"
   ]
  },
  {
   "cell_type": "markdown",
   "id": "14cc4405",
   "metadata": {
    "papermill": {
     "duration": 0.009869,
     "end_time": "2024-06-05T10:44:53.550909",
     "exception": false,
     "start_time": "2024-06-05T10:44:53.541040",
     "status": "completed"
    },
    "tags": []
   },
   "source": [
    "#### Dataset"
   ]
  },
  {
   "cell_type": "code",
   "execution_count": 10,
   "id": "04c2fc66",
   "metadata": {
    "execution": {
     "iopub.execute_input": "2024-06-05T10:44:53.572339Z",
     "iopub.status.busy": "2024-06-05T10:44:53.572016Z",
     "iopub.status.idle": "2024-06-05T10:45:12.068028Z",
     "shell.execute_reply": "2024-06-05T10:45:12.067261Z"
    },
    "papermill": {
     "duration": 18.509346,
     "end_time": "2024-06-05T10:45:12.070298",
     "exception": false,
     "start_time": "2024-06-05T10:44:53.560952",
     "status": "completed"
    },
    "tags": []
   },
   "outputs": [
    {
     "name": "stderr",
     "output_type": "stream",
     "text": [
      "/tmp/ipykernel_23/1903179062.py:8: FutureWarning: use_inf_as_na option is deprecated and will be removed in a future version. Convert inf values to NaN before operating instead.\n",
      "  with pd.option_context('mode.use_inf_as_na', False):\n"
     ]
    },
    {
     "name": "stdout",
     "output_type": "stream",
     "text": [
      "Downloading https://www.cs.toronto.edu/~kriz/cifar-100-python.tar.gz to ./data/cifar-100-python.tar.gz\n"
     ]
    },
    {
     "name": "stderr",
     "output_type": "stream",
     "text": [
      "100%|██████████| 169001437/169001437 [00:15<00:00, 11134843.86it/s]\n"
     ]
    },
    {
     "name": "stdout",
     "output_type": "stream",
     "text": [
      "Extracting ./data/cifar-100-python.tar.gz to ./data\n"
     ]
    }
   ],
   "source": [
    "def data_loader(data_dir,\n",
    "                batch_size,\n",
    "                random_seed=42,\n",
    "                valid_size=0.1,\n",
    "                shuffle=True,\n",
    "                test=False):\n",
    "      \n",
    "    with pd.option_context('mode.use_inf_as_na', False):\n",
    "        normalize = transforms.Normalize(\n",
    "            mean=[0.4914, 0.4822, 0.4465],\n",
    "            std=[0.2023, 0.1994, 0.2010],\n",
    "        )\n",
    "\n",
    "        # define transforms\n",
    "        transform = transforms.Compose([\n",
    "                transforms.Resize((227,227)),\n",
    "                transforms.ToTensor(),\n",
    "                normalize,\n",
    "        ])\n",
    "    \n",
    "        if test:\n",
    "            dataset = datasets.CIFAR100(\n",
    "              root=data_dir, train=False,\n",
    "              download=True, transform=transform,\n",
    "            )\n",
    "\n",
    "            data_loader = torch.utils.data.DataLoader(\n",
    "                dataset, batch_size=batch_size, shuffle=shuffle\n",
    "            )\n",
    "\n",
    "            return data_loader\n",
    "\n",
    "        # load the dataset\n",
    "        train_dataset = datasets.CIFAR100(\n",
    "            root=data_dir, train=True,\n",
    "            download=True, transform=transform,\n",
    "        )\n",
    "\n",
    "        valid_dataset = datasets.CIFAR10(\n",
    "            root=data_dir, train=True,\n",
    "            download=True, transform=transform,\n",
    "        )\n",
    "\n",
    "        num_train = len(train_dataset)\n",
    "        indices = list(range(num_train))\n",
    "        split = int(np.floor(valid_size * num_train))\n",
    "\n",
    "        if shuffle:\n",
    "            np.random.seed(random_seed)\n",
    "            np.random.shuffle(indices)\n",
    "\n",
    "        train_idx, valid_idx = indices[split:], indices[:split]\n",
    "        train_sampler = SubsetRandomSampler(train_idx)\n",
    "        valid_sampler = SubsetRandomSampler(valid_idx)\n",
    "\n",
    "        train_loader = torch.utils.data.DataLoader(\n",
    "            train_dataset, batch_size=batch_size, sampler=train_sampler)\n",
    "\n",
    "        valid_loader = torch.utils.data.DataLoader(\n",
    "            valid_dataset, batch_size=batch_size, sampler=valid_sampler)\n",
    "\n",
    "        return (train_loader, valid_loader)\n",
    "\n",
    "\n",
    "# CIFAR100 dataset\n",
    "if TRAIN:\n",
    "    train_loader, valid_loader = data_loader(data_dir='./data', batch_size=64)\n",
    "    \n",
    "test_loader = data_loader(data_dir='./data',\n",
    "                          batch_size=64,\n",
    "                          test=True)\n",
    "\n",
    "def test_accuracy(model):\n",
    "    with torch.no_grad():\n",
    "        correct = 0\n",
    "        total = 0\n",
    "        i = 0\n",
    "        \n",
    "#         return 100*3/5\n",
    "        for images, labels in test_loader:\n",
    "            images = images.to(device)\n",
    "            labels = labels.to(device)\n",
    "            outputs = model(images)\n",
    "            _, predicted = torch.max(outputs.data, 1)\n",
    "            \n",
    "            total += labels.size(0)\n",
    "            correct += (predicted == labels).sum().item()\n",
    "            del images, labels, outputs\n",
    "            \n",
    "            i += 1\n",
    "#             if i == 1:\n",
    "#                 break\n",
    "            \n",
    "        return 100 * correct / total"
   ]
  },
  {
   "cell_type": "markdown",
   "id": "b2e67f23",
   "metadata": {
    "papermill": {
     "duration": 0.018232,
     "end_time": "2024-06-05T10:45:12.107419",
     "exception": false,
     "start_time": "2024-06-05T10:45:12.089187",
     "status": "completed"
    },
    "tags": []
   },
   "source": [
    "#### Training"
   ]
  },
  {
   "cell_type": "code",
   "execution_count": 11,
   "id": "1ca70b59",
   "metadata": {
    "execution": {
     "iopub.execute_input": "2024-06-05T10:45:12.145073Z",
     "iopub.status.busy": "2024-06-05T10:45:12.144788Z",
     "iopub.status.idle": "2024-06-05T10:45:19.116750Z",
     "shell.execute_reply": "2024-06-05T10:45:19.115902Z"
    },
    "papermill": {
     "duration": 6.993371,
     "end_time": "2024-06-05T10:45:19.119074",
     "exception": false,
     "start_time": "2024-06-05T10:45:12.125703",
     "status": "completed"
    },
    "tags": []
   },
   "outputs": [],
   "source": [
    "if TRAIN:\n",
    "    model = models.vgg11(weights=VGG11_Weights.IMAGENET1K_V1).to(device)  \n",
    "    num_epochs = 5\n",
    "    learning_rate = 0.005\n",
    "\n",
    "    # Loss and optimizer\n",
    "    criterion = nn.CrossEntropyLoss()\n",
    "    optimizer = torch.optim.SGD(model.parameters(), lr=learning_rate, weight_decay = 0.005, momentum = 0.9)\n",
    "    total_step = len(train_loader)\n",
    "\n",
    "    for epoch in range(num_epochs):\n",
    "        model.train()\n",
    "        for i, (images, labels) in enumerate(train_loader):  \n",
    "            # Move tensors to the configured device\n",
    "            images = images.to(device)\n",
    "            labels = labels.to(device)\n",
    "            \n",
    "            # Forward pass\n",
    "            outputs = model(images)\n",
    "            loss = criterion(outputs, labels)\n",
    "            \n",
    "            # Backward and optimize\n",
    "            optimizer.zero_grad()\n",
    "            loss.backward()\n",
    "            optimizer.step()\n",
    "            \n",
    "            if i % 100 == 0:\n",
    "                print ('Epoch [{}/{}], Step [{}/{}], Loss: {:.4f}' \n",
    "                            .format(epoch+1, num_epochs, i+1, total_step, loss.item()))\n",
    "        \n",
    "        # Validation\n",
    "        model.eval()\n",
    "        with torch.no_grad():\n",
    "            correct = 0\n",
    "            total = 0\n",
    "            for images, labels in valid_loader:\n",
    "                images = images.to(device)\n",
    "                labels = labels.to(device)\n",
    "                outputs = model(images)\n",
    "                _, predicted = torch.max(outputs.data, 1)\n",
    "                total += labels.size(0)\n",
    "                correct += (predicted == labels).sum().item()\n",
    "                del images, labels, outputs\n",
    "        \n",
    "            print('Accuracy of the network on the {} validation images: {} % (Epoch {})'.format(5000, 100 * correct / total, epoch+1))\n",
    "else:\n",
    "#     model = models.vgg11(weights=VGG11_Weights.IMAGENET1K_V1).to(device)  \n",
    "    model = models.vgg11()\n",
    "    model.load_state_dict(load_pkl(MODEL_PATH))\n",
    "    model.eval()"
   ]
  },
  {
   "cell_type": "markdown",
   "id": "423049cc",
   "metadata": {
    "papermill": {
     "duration": 0.01852,
     "end_time": "2024-06-05T10:45:19.156644",
     "exception": false,
     "start_time": "2024-06-05T10:45:19.138124",
     "status": "completed"
    },
    "tags": []
   },
   "source": [
    "### Distribution of Original Weights"
   ]
  },
  {
   "cell_type": "code",
   "execution_count": 12,
   "id": "dec0b714",
   "metadata": {
    "execution": {
     "iopub.execute_input": "2024-06-05T10:45:19.194432Z",
     "iopub.status.busy": "2024-06-05T10:45:19.194088Z",
     "iopub.status.idle": "2024-06-05T10:45:19.198044Z",
     "shell.execute_reply": "2024-06-05T10:45:19.197248Z"
    },
    "papermill": {
     "duration": 0.024978,
     "end_time": "2024-06-05T10:45:19.199854",
     "exception": false,
     "start_time": "2024-06-05T10:45:19.174876",
     "status": "completed"
    },
    "tags": []
   },
   "outputs": [],
   "source": [
    "# classifier.0.weight 102760448\n",
    "# classifier.3.weight 16777216\n",
    "# classifier.6.weight 4096000\n",
    "# plot_weight_distribution(model, base=True)"
   ]
  },
  {
   "cell_type": "code",
   "execution_count": 13,
   "id": "43175e38",
   "metadata": {
    "execution": {
     "iopub.execute_input": "2024-06-05T10:45:19.237440Z",
     "iopub.status.busy": "2024-06-05T10:45:19.237171Z",
     "iopub.status.idle": "2024-06-05T10:45:19.493630Z",
     "shell.execute_reply": "2024-06-05T10:45:19.492716Z"
    },
    "papermill": {
     "duration": 0.277814,
     "end_time": "2024-06-05T10:45:19.495790",
     "exception": false,
     "start_time": "2024-06-05T10:45:19.217976",
     "status": "completed"
    },
    "tags": []
   },
   "outputs": [
    {
     "data": {
      "text/html": [
       "<div>\n",
       "<style scoped>\n",
       "    .dataframe tbody tr th:only-of-type {\n",
       "        vertical-align: middle;\n",
       "    }\n",
       "\n",
       "    .dataframe tbody tr th {\n",
       "        vertical-align: top;\n",
       "    }\n",
       "\n",
       "    .dataframe thead th {\n",
       "        text-align: right;\n",
       "    }\n",
       "</style>\n",
       "<table border=\"1\" class=\"dataframe\">\n",
       "  <thead>\n",
       "    <tr style=\"text-align: right;\">\n",
       "      <th></th>\n",
       "      <th>Layer</th>\n",
       "      <th>Mean</th>\n",
       "      <th>Standard Deviation</th>\n",
       "      <th>Min</th>\n",
       "      <th>Max</th>\n",
       "    </tr>\n",
       "  </thead>\n",
       "  <tbody>\n",
       "    <tr>\n",
       "      <th>0</th>\n",
       "      <td>features.0.weight</td>\n",
       "      <td>-6.118355e-04</td>\n",
       "      <td>0.182518</td>\n",
       "      <td>-0.576514</td>\n",
       "      <td>0.733067</td>\n",
       "    </tr>\n",
       "    <tr>\n",
       "      <th>1</th>\n",
       "      <td>features.3.weight</td>\n",
       "      <td>-7.280580e-04</td>\n",
       "      <td>0.031691</td>\n",
       "      <td>-0.366674</td>\n",
       "      <td>0.426103</td>\n",
       "    </tr>\n",
       "    <tr>\n",
       "      <th>2</th>\n",
       "      <td>features.6.weight</td>\n",
       "      <td>-5.120513e-04</td>\n",
       "      <td>0.017840</td>\n",
       "      <td>-0.239951</td>\n",
       "      <td>0.290745</td>\n",
       "    </tr>\n",
       "    <tr>\n",
       "      <th>3</th>\n",
       "      <td>features.8.weight</td>\n",
       "      <td>-9.444316e-04</td>\n",
       "      <td>0.014110</td>\n",
       "      <td>-0.204781</td>\n",
       "      <td>0.409000</td>\n",
       "    </tr>\n",
       "    <tr>\n",
       "      <th>4</th>\n",
       "      <td>features.11.weight</td>\n",
       "      <td>-5.817962e-04</td>\n",
       "      <td>0.011325</td>\n",
       "      <td>-0.171319</td>\n",
       "      <td>0.202021</td>\n",
       "    </tr>\n",
       "    <tr>\n",
       "      <th>5</th>\n",
       "      <td>features.13.weight</td>\n",
       "      <td>-1.003245e-03</td>\n",
       "      <td>0.008708</td>\n",
       "      <td>-0.144776</td>\n",
       "      <td>0.156960</td>\n",
       "    </tr>\n",
       "    <tr>\n",
       "      <th>6</th>\n",
       "      <td>features.16.weight</td>\n",
       "      <td>-5.544542e-04</td>\n",
       "      <td>0.009031</td>\n",
       "      <td>-0.161565</td>\n",
       "      <td>0.128053</td>\n",
       "    </tr>\n",
       "    <tr>\n",
       "      <th>7</th>\n",
       "      <td>features.18.weight</td>\n",
       "      <td>-1.142678e-03</td>\n",
       "      <td>0.008698</td>\n",
       "      <td>-0.103508</td>\n",
       "      <td>0.119273</td>\n",
       "    </tr>\n",
       "    <tr>\n",
       "      <th>8</th>\n",
       "      <td>classifier.0.weight</td>\n",
       "      <td>-1.109735e-04</td>\n",
       "      <td>0.002568</td>\n",
       "      <td>-0.024549</td>\n",
       "      <td>0.042916</td>\n",
       "    </tr>\n",
       "    <tr>\n",
       "      <th>9</th>\n",
       "      <td>classifier.3.weight</td>\n",
       "      <td>-2.723727e-04</td>\n",
       "      <td>0.004957</td>\n",
       "      <td>-0.030718</td>\n",
       "      <td>0.038001</td>\n",
       "    </tr>\n",
       "    <tr>\n",
       "      <th>10</th>\n",
       "      <td>classifier.6.weight</td>\n",
       "      <td>4.801769e-07</td>\n",
       "      <td>0.008999</td>\n",
       "      <td>-0.059792</td>\n",
       "      <td>0.142456</td>\n",
       "    </tr>\n",
       "  </tbody>\n",
       "</table>\n",
       "</div>"
      ],
      "text/plain": [
       "                  Layer          Mean  Standard Deviation       Min       Max\n",
       "0     features.0.weight -6.118355e-04            0.182518 -0.576514  0.733067\n",
       "1     features.3.weight -7.280580e-04            0.031691 -0.366674  0.426103\n",
       "2     features.6.weight -5.120513e-04            0.017840 -0.239951  0.290745\n",
       "3     features.8.weight -9.444316e-04            0.014110 -0.204781  0.409000\n",
       "4    features.11.weight -5.817962e-04            0.011325 -0.171319  0.202021\n",
       "5    features.13.weight -1.003245e-03            0.008708 -0.144776  0.156960\n",
       "6    features.16.weight -5.544542e-04            0.009031 -0.161565  0.128053\n",
       "7    features.18.weight -1.142678e-03            0.008698 -0.103508  0.119273\n",
       "8   classifier.0.weight -1.109735e-04            0.002568 -0.024549  0.042916\n",
       "9   classifier.3.weight -2.723727e-04            0.004957 -0.030718  0.038001\n",
       "10  classifier.6.weight  4.801769e-07            0.008999 -0.059792  0.142456"
      ]
     },
     "execution_count": 13,
     "metadata": {},
     "output_type": "execute_result"
    }
   ],
   "source": [
    "orig_stats = print_statistics(model)\n",
    "orig_stats"
   ]
  },
  {
   "cell_type": "code",
   "execution_count": 14,
   "id": "7996a187",
   "metadata": {
    "execution": {
     "iopub.execute_input": "2024-06-05T10:45:19.536022Z",
     "iopub.status.busy": "2024-06-05T10:45:19.535708Z",
     "iopub.status.idle": "2024-06-05T10:45:49.525755Z",
     "shell.execute_reply": "2024-06-05T10:45:49.524507Z"
    },
    "papermill": {
     "duration": 30.012562,
     "end_time": "2024-06-05T10:45:49.527926",
     "exception": false,
     "start_time": "2024-06-05T10:45:19.515364",
     "status": "completed"
    },
    "tags": []
   },
   "outputs": [
    {
     "name": "stdout",
     "output_type": "stream",
     "text": [
      "Model Size: 506.84027194976807 MB\n",
      "Test Accuracy: 59.51\n"
     ]
    }
   ],
   "source": [
    "model = model.to(device)\n",
    "\n",
    "weights = {}\n",
    "for name, param in model.named_parameters():\n",
    "    if param.requires_grad:\n",
    "        weights[name] = param.data            \n",
    "org_size = save_pkl('org_model_param_size.pkl', weights)\n",
    "\n",
    "if TRAIN:\n",
    "    save_pkl('org_model.pkl', model.state_dict())\n",
    "\n",
    "org_data = {\n",
    "    'tolerance': 0,\n",
    "    'test_accuracy': test_accuracy(model),\n",
    "    'compression_ratio': 1,\n",
    "    'model_size': org_size / 1024**2,  # Size in MB\n",
    "    'stats': orig_stats\n",
    "}\n",
    "\n",
    "print('Model Size:', org_data['model_size'], 'MB')\n",
    "print(f'Test Accuracy: {org_data[\"test_accuracy\"]}')"
   ]
  },
  {
   "cell_type": "markdown",
   "id": "414d357f",
   "metadata": {
    "papermill": {
     "duration": 0.018484,
     "end_time": "2024-06-05T10:45:49.565969",
     "exception": false,
     "start_time": "2024-06-05T10:45:49.547485",
     "status": "completed"
    },
    "tags": []
   },
   "source": [
    "### Pruning"
   ]
  },
  {
   "cell_type": "code",
   "execution_count": 15,
   "id": "68961535",
   "metadata": {
    "execution": {
     "iopub.execute_input": "2024-06-05T10:45:49.604223Z",
     "iopub.status.busy": "2024-06-05T10:45:49.603938Z",
     "iopub.status.idle": "2024-06-05T10:45:49.607860Z",
     "shell.execute_reply": "2024-06-05T10:45:49.607018Z"
    },
    "papermill": {
     "duration": 0.025184,
     "end_time": "2024-06-05T10:45:49.609665",
     "exception": false,
     "start_time": "2024-06-05T10:45:49.584481",
     "status": "completed"
    },
    "tags": []
   },
   "outputs": [],
   "source": [
    "# parameters_to_prune = (\n",
    "#     (model.features[0], 'weight'),\n",
    "#     (model.features[3], 'weight'),\n",
    "#     (model.features[6], 'weight'),\n",
    "#     (model.features[8], 'weight'),\n",
    "#     (model.features[11], 'weight'),\n",
    "#     (model.features[13], 'weight'),\n",
    "#     (model.features[16], 'weight'),\n",
    "#     (model.features[18], 'weight')\n",
    "# )"
   ]
  },
  {
   "cell_type": "code",
   "execution_count": 16,
   "id": "0692874a",
   "metadata": {
    "execution": {
     "iopub.execute_input": "2024-06-05T10:45:49.648141Z",
     "iopub.status.busy": "2024-06-05T10:45:49.647897Z",
     "iopub.status.idle": "2024-06-05T11:07:25.554830Z",
     "shell.execute_reply": "2024-06-05T11:07:25.553941Z"
    },
    "papermill": {
     "duration": 1295.943179,
     "end_time": "2024-06-05T11:07:25.571504",
     "exception": false,
     "start_time": "2024-06-05T10:45:49.628325",
     "status": "completed"
    },
    "tags": []
   },
   "outputs": [
    {
     "name": "stderr",
     "output_type": "stream",
     "text": [
      "Processing: 100%|██████████| 20/20 [21:35<00:00, 64.79s/item]\n"
     ]
    }
   ],
   "source": [
    "def calculate_sparsity(model):\n",
    "    total_params = 0\n",
    "    zero_params = 0\n",
    "\n",
    "    for param in model.parameters():\n",
    "        total_params += param.numel()\n",
    "        zero_params += torch.sum(param == 0).item()\n",
    "\n",
    "    sparsity = zero_params / total_params\n",
    "    return sparsity\n",
    "\n",
    "def global_prune(c_model, amount):\n",
    "    parameters_to_prune = []\n",
    "    \n",
    "    for name, module in c_model.named_modules():\n",
    "        if isinstance(module, (torch.nn.Conv2d, torch.nn.Linear)):\n",
    "            parameters_to_prune.append((module, 'weight'))\n",
    "            if module.bias is not None:\n",
    "                parameters_to_prune.append((module, 'bias'))\n",
    "    \n",
    "    prune.global_unstructured(\n",
    "        parameters_to_prune,\n",
    "        pruning_method=prune.L1Unstructured,\n",
    "        amount=amount,\n",
    "    )\n",
    "\n",
    "    for layer, param in parameters_to_prune:\n",
    "        prune.remove(layer, param)\n",
    "        \n",
    "    \n",
    "prune_values = [i/20 for i in range(0, 20)]\n",
    "TOLERANCE = 0.0002  \n",
    "\n",
    "if PRUNE and (TRAIN or not PRUNE_LOAD):\n",
    "    prune_results = []\n",
    "    for i, amount in tqdm(enumerate(prune_values), total=len(prune_values), desc=\"Processing\", unit=\"item\"):\n",
    "        copied_model = copy.deepcopy(model)\n",
    "        global_prune(copied_model, amount)\n",
    "        before_sparisty = calculate_sparsity(copied_model)\n",
    "        old_stats = print_statistics(copied_model)\n",
    "        old_accuracy = test_accuracy(copied_model.to(device))\n",
    "        \n",
    "#         if i >= 17:\n",
    "#             plot_classifier_distribution(copied_model, tolerance=TOLERANCE, prune=amount, prune_zfp=False, bins=100)\n",
    "\n",
    "        # Compress weights\n",
    "        compressed_weights = {}\n",
    "        for name, param in copied_model.named_parameters():\n",
    "            if param.requires_grad:\n",
    "                compressed_weights[name] = compress_tensor(param.data, tolerance=TOLERANCE)\n",
    "\n",
    "        pkl_path = f'zfp_model_prune_{amount}.pkl'\n",
    "        zfp_size = save_pkl(pkl_path, compressed_weights)\n",
    "\n",
    "        # Decompress weights\n",
    "        for name, param in copied_model.named_parameters():\n",
    "            if param.requires_grad:\n",
    "                param.data = decompress_tensor(compressed_weights[name], param.data.shape)\n",
    "\n",
    "#         if i >= 17:\n",
    "#             plot_classifier_distribution(copied_model, tolerance=TOLERANCE, prune=amount, prune_zfp=True, bins=100)\n",
    "        \n",
    "        prune_results.append({\n",
    "            'before_sparsity': before_sparisty,\n",
    "            'after_sparsity': calculate_sparsity(copied_model),\n",
    "            'compression_ratio': org_size / zfp_size,\n",
    "            'model_size': zfp_size / 1024**2,  # Size in MB\n",
    "            'old_stats': old_stats,\n",
    "            'new_stats': print_statistics(copied_model),\n",
    "            'before_accuracy': old_accuracy,\n",
    "            'after_accuracy': test_accuracy(copied_model.to(device))\n",
    "#             .to(device)\n",
    "        })\n",
    "    \n",
    "    # save prune_results\n",
    "    prune_results_copy = copy.deepcopy(prune_results)\n",
    "    for r in prune_results_copy:\n",
    "        r['old_stats'] = r['old_stats'].to_json(orient='records')\n",
    "        r['new_stats'] = r['new_stats'].to_json(orient='records')\n",
    "    \n",
    "    with open(PRUNE_DATA_JSON, 'w') as json_file:\n",
    "        json.dump(prune_results_copy, json_file, indent=4) \n",
    "        \n",
    "elif PRUNE:\n",
    "    # load prune_results\n",
    "    with open(PRUNE_DATA_JSON, 'r') as json_file:\n",
    "        prune_results = json.load(json_file)\n",
    "        \n",
    "        for r in prune_results:\n",
    "            r['old_stats'] = pd.read_json(StringIO(r['old_stats']), orient='records')\n",
    "            r['new_stats'] = pd.read_json(StringIO(r['new_stats']), orient='records')"
   ]
  },
  {
   "cell_type": "code",
   "execution_count": 17,
   "id": "f4a8729b",
   "metadata": {
    "execution": {
     "iopub.execute_input": "2024-06-05T11:07:25.613260Z",
     "iopub.status.busy": "2024-06-05T11:07:25.612969Z",
     "iopub.status.idle": "2024-06-05T11:07:25.616602Z",
     "shell.execute_reply": "2024-06-05T11:07:25.615824Z"
    },
    "papermill": {
     "duration": 0.026537,
     "end_time": "2024-06-05T11:07:25.618456",
     "exception": false,
     "start_time": "2024-06-05T11:07:25.591919",
     "status": "completed"
    },
    "tags": []
   },
   "outputs": [],
   "source": [
    "# plot_weight_distribution(copied_model, tolerance=TOLERANCE, prune=0.95, prune_zfp=False, bins=7)\n",
    "# print(org_size)\n",
    "# prune_results[0]"
   ]
  },
  {
   "cell_type": "code",
   "execution_count": 18,
   "id": "2de93a0b",
   "metadata": {
    "execution": {
     "iopub.execute_input": "2024-06-05T11:07:25.659681Z",
     "iopub.status.busy": "2024-06-05T11:07:25.659381Z",
     "iopub.status.idle": "2024-06-05T11:07:26.291802Z",
     "shell.execute_reply": "2024-06-05T11:07:26.290900Z"
    },
    "papermill": {
     "duration": 0.655439,
     "end_time": "2024-06-05T11:07:26.293985",
     "exception": false,
     "start_time": "2024-06-05T11:07:25.638546",
     "status": "completed"
    },
    "tags": []
   },
   "outputs": [
    {
     "data": {
      "image/png": "[encoded data removed]",
      "text/plain": [
       "<Figure size 1000x600 with 1 Axes>"
      ]
     },
     "metadata": {},
     "output_type": "display_data"
    },
    {
     "data": {
      "image/png": "[encoded data removed]",
      "text/plain": [
       "<Figure size 1000x600 with 1 Axes>"
      ]
     },
     "metadata": {},
     "output_type": "display_data"
    }
   ],
   "source": [
    "if PRUNE:\n",
    "    compression_ratios = [result[\"compression_ratio\"] for result in prune_results]\n",
    "    model_sizes = [result[\"model_size\"] for result in prune_results]\n",
    "    \n",
    "\n",
    "    data = [\n",
    "        (compression_ratios, org_data['compression_ratio'], 'green', 'Compression Ratio'),\n",
    "        (model_sizes, org_data['model_size'], 'red', 'Model Size (MB)'),\n",
    "    ]\n",
    "\n",
    "    for values, baseline, color, label in data:\n",
    "        plt.figure(figsize=(10, 6))\n",
    "\n",
    "        plt.plot(prune_values, values, color=color, marker='o', label=label)\n",
    "        plt.axhline(y=baseline, color='purple', linestyle='--', label=f'Baseline {label}')\n",
    "\n",
    "        plt.title(f'{label} vs Prune Amount with Baseline with Tolerance {TOLERANCE}')\n",
    "#         plt.xscale('log', base=2)\n",
    "        plt.xlabel('Prune Amount')\n",
    "        plt.ylabel(label)\n",
    "        plt.legend()\n",
    "        plt.grid(True)\n",
    "\n",
    "        plt.show()"
   ]
  },
  {
   "cell_type": "code",
   "execution_count": 19,
   "id": "8542c9c8",
   "metadata": {
    "execution": {
     "iopub.execute_input": "2024-06-05T11:07:26.338897Z",
     "iopub.status.busy": "2024-06-05T11:07:26.338496Z",
     "iopub.status.idle": "2024-06-05T11:07:26.658308Z",
     "shell.execute_reply": "2024-06-05T11:07:26.657407Z"
    },
    "papermill": {
     "duration": 0.344332,
     "end_time": "2024-06-05T11:07:26.660249",
     "exception": false,
     "start_time": "2024-06-05T11:07:26.315917",
     "status": "completed"
    },
    "tags": []
   },
   "outputs": [
    {
     "data": {
      "image/png": "[encoded data removed]",
      "text/plain": [
       "<Figure size 1000x600 with 1 Axes>"
      ]
     },
     "metadata": {},
     "output_type": "display_data"
    }
   ],
   "source": [
    "if PRUNE:\n",
    "    before_accuracies = [result[\"before_accuracy\"] for result in prune_results]\n",
    "    after_accuracies = [result[\"after_accuracy\"] for result in prune_results]\n",
    "    baseline = org_data['test_accuracy']\n",
    "\n",
    "    data = [\n",
    "        (before_accuracies, 'green', 'Pruned Accuracy'),\n",
    "        (after_accuracies,'red', 'ZFP Pruned Accuracy'),\n",
    "    ]\n",
    "    \n",
    "    plt.figure(figsize=(10, 6))\n",
    "    plt.axhline(y=baseline, color='purple', linestyle='--', label=f'Baseline Accuracy')\n",
    "\n",
    "    for values, color, label in data:\n",
    "        plt.plot(prune_values, values, color=color, marker='o', label=label)\n",
    "\n",
    "    plt.title(f'ZFP vs Prune Accuracy with Baseline and Tolerance {TOLERANCE}')\n",
    "    plt.xlabel('Prune Amount')\n",
    "    plt.ylabel(label)\n",
    "    plt.legend()\n",
    "    plt.grid(True)\n",
    "\n",
    "    plt.show()\n",
    "    \n",
    "#     print(baseline, before_accuracies, after_accuracies)"
   ]
  },
  {
   "cell_type": "code",
   "execution_count": 20,
   "id": "70c2b820",
   "metadata": {
    "execution": {
     "iopub.execute_input": "2024-06-05T11:07:26.707037Z",
     "iopub.status.busy": "2024-06-05T11:07:26.706737Z",
     "iopub.status.idle": "2024-06-05T11:07:27.083678Z",
     "shell.execute_reply": "2024-06-05T11:07:27.082854Z"
    },
    "papermill": {
     "duration": 0.402482,
     "end_time": "2024-06-05T11:07:27.086056",
     "exception": false,
     "start_time": "2024-06-05T11:07:26.683574",
     "status": "completed"
    },
    "tags": []
   },
   "outputs": [
    {
     "data": {
      "image/png": "[encoded data removed]",
      "text/plain": [
       "<Figure size 1000x600 with 1 Axes>"
      ]
     },
     "metadata": {},
     "output_type": "display_data"
    }
   ],
   "source": [
    "if PRUNE:\n",
    "    avg_mean = []\n",
    "    avg_sd = []\n",
    "    avg_min = []\n",
    "    avg_max = []\n",
    "#     sparsity_dif = []\n",
    "\n",
    "    for model_data in prune_results:\n",
    "        comp = compare_model_stats(model_data['old_stats'], model_data['new_stats'])\n",
    "\n",
    "        avg_mean.append(comp['MSE Mean'].sum())\n",
    "        avg_sd.append(comp['MSE SD'].sum())  \n",
    "        avg_min.append(comp['MSE Min'].sum())\n",
    "        avg_max.append(comp['MSE Max'].sum())\n",
    "#         sparsity_dif.append( (model_data['after_sparsity'] - model_data['before_sparsity'])**2 )\n",
    "    \n",
    "    data = [\n",
    "        (avg_mean, 'blue', 'Mean'),\n",
    "        (avg_sd, 'green', 'Standard Deviation'),\n",
    "        (avg_min, 'red', 'Min'),\n",
    "        (avg_max, 'purple', 'Max'),\n",
    "#         (sparsity_dif, 'orange', 'Global Sparsity')\n",
    "    ]\n",
    "\n",
    "    plt.figure(figsize=(10, 6))\n",
    "    plt.title(f'Prune Amount vs Model Weight MSE for Tolerance {TOLERANCE}')\n",
    "    plt.xlabel('Prune Amount')\n",
    "    plt.ylabel('Value')\n",
    "\n",
    "    for values, color, label in data:\n",
    "        plt.plot(prune_values, values, color=color, marker='o', label=label)\n",
    "\n",
    "    plt.legend()\n",
    "    plt.grid(True)\n",
    "    plt.show()"
   ]
  },
  {
   "cell_type": "code",
   "execution_count": 21,
   "id": "50c55da0",
   "metadata": {
    "execution": {
     "iopub.execute_input": "2024-06-05T11:07:27.136255Z",
     "iopub.status.busy": "2024-06-05T11:07:27.135947Z",
     "iopub.status.idle": "2024-06-05T11:07:27.428954Z",
     "shell.execute_reply": "2024-06-05T11:07:27.428120Z"
    },
    "papermill": {
     "duration": 0.32107,
     "end_time": "2024-06-05T11:07:27.431214",
     "exception": false,
     "start_time": "2024-06-05T11:07:27.110144",
     "status": "completed"
    },
    "tags": []
   },
   "outputs": [
    {
     "data": {
      "image/png": "[encoded data removed]",
      "text/plain": [
       "<Figure size 1000x600 with 1 Axes>"
      ]
     },
     "metadata": {},
     "output_type": "display_data"
    }
   ],
   "source": [
    "if PRUNE:    \n",
    "    plt.figure(figsize=(10, 6))\n",
    "    plt.title(f'Sparsity before and after ZFP for Tolerance {TOLERANCE}')\n",
    "    plt.xlabel('Prune Amount')\n",
    "    plt.ylabel('Sparsity')\n",
    "    \n",
    "    data = [\n",
    "        ([r['before_sparsity'] for r in prune_results], 'blue', 'Before'),\n",
    "        ([r['after_sparsity'] for r in prune_results], 'red', 'After'),\n",
    "    ]\n",
    "    for values, color, label in data:\n",
    "        plt.plot(prune_values, values, color=color, marker='o', label=label)\n",
    "\n",
    "    plt.legend()\n",
    "    plt.grid(True)\n",
    "    plt.show()"
   ]
  },
  {
   "cell_type": "code",
   "execution_count": 22,
   "id": "b6887e70",
   "metadata": {
    "execution": {
     "iopub.execute_input": "2024-06-05T11:07:27.481050Z",
     "iopub.status.busy": "2024-06-05T11:07:27.480350Z",
     "iopub.status.idle": "2024-06-05T11:07:27.484207Z",
     "shell.execute_reply": "2024-06-05T11:07:27.483368Z"
    },
    "papermill": {
     "duration": 0.0307,
     "end_time": "2024-06-05T11:07:27.486079",
     "exception": false,
     "start_time": "2024-06-05T11:07:27.455379",
     "status": "completed"
    },
    "tags": []
   },
   "outputs": [],
   "source": [
    "# print(prune_results[-4])"
   ]
  },
  {
   "cell_type": "markdown",
   "id": "c717c04e",
   "metadata": {
    "papermill": {
     "duration": 0.023756,
     "end_time": "2024-06-05T11:07:27.533805",
     "exception": false,
     "start_time": "2024-06-05T11:07:27.510049",
     "status": "completed"
    },
    "tags": []
   },
   "source": [
    "### Perform Test Accuracy"
   ]
  },
  {
   "cell_type": "code",
   "execution_count": 23,
   "id": "76d8280c",
   "metadata": {
    "execution": {
     "iopub.execute_input": "2024-06-05T11:07:27.582647Z",
     "iopub.status.busy": "2024-06-05T11:07:27.582349Z",
     "iopub.status.idle": "2024-06-05T11:07:27.590879Z",
     "shell.execute_reply": "2024-06-05T11:07:27.590034Z"
    },
    "papermill": {
     "duration": 0.034979,
     "end_time": "2024-06-05T11:07:27.592659",
     "exception": false,
     "start_time": "2024-06-05T11:07:27.557680",
     "status": "completed"
    },
    "tags": []
   },
   "outputs": [],
   "source": [
    "tolerance_values = [1/2**i for i in range(0, 27)]\n",
    "# tolerance_values = [1/2**i for i in range(0, 2)]\n",
    "\n",
    "if not PRUNE and (TRAIN or not TRAIN_LOAD):\n",
    "    results = []\n",
    "\n",
    "    for i, tolerance in tqdm(enumerate(tolerance_values), total=len(tolerance_values), desc=\"Processing\", unit=\"item\"):\n",
    "        copied_model = copy.deepcopy(model)\n",
    "\n",
    "        # Compress weights\n",
    "        compressed_weights = {}\n",
    "        for name, param in copied_model.named_parameters():\n",
    "            if param.requires_grad:\n",
    "                compressed_weights[name] = compress_tensor(param.data, tolerance=tolerance)\n",
    "\n",
    "        pkl_path = f'zfp_model_{tolerance}.pkl'\n",
    "        zfp_size = save_pkl(pkl_path, compressed_weights)\n",
    "\n",
    "        # Decompress weights\n",
    "        for name, param in copied_model.named_parameters():\n",
    "            if param.requires_grad:\n",
    "                param.data = decompress_tensor(compressed_weights[name], param.data.shape)\n",
    "        \n",
    "        results.append({\n",
    "            'tolerance': tolerance,\n",
    "            'test_accuracy': test_accuracy(copied_model.to(device)),\n",
    "#             'test_accuracy': 0.25,\n",
    "            'compression_ratio': org_size / zfp_size,\n",
    "            'model_size': zfp_size / 1024**2,  # Size in MB\n",
    "            'stats': print_statistics(copied_model)\n",
    "        })\n",
    "\n",
    "#         if i % 9 == 0:\n",
    "#             plot_weight_distribution(copied_model, tolerance=tolerance)"
   ]
  },
  {
   "cell_type": "markdown",
   "id": "226bc4c2",
   "metadata": {
    "papermill": {
     "duration": 0.023513,
     "end_time": "2024-06-05T11:07:27.639732",
     "exception": false,
     "start_time": "2024-06-05T11:07:27.616219",
     "status": "completed"
    },
    "tags": []
   },
   "source": [
    "### Save or Load Results"
   ]
  },
  {
   "cell_type": "code",
   "execution_count": 24,
   "id": "e01c8deb",
   "metadata": {
    "execution": {
     "iopub.execute_input": "2024-06-05T11:07:27.688090Z",
     "iopub.status.busy": "2024-06-05T11:07:27.687837Z",
     "iopub.status.idle": "2024-06-05T11:07:27.694441Z",
     "shell.execute_reply": "2024-06-05T11:07:27.693626Z"
    },
    "papermill": {
     "duration": 0.033026,
     "end_time": "2024-06-05T11:07:27.696365",
     "exception": false,
     "start_time": "2024-06-05T11:07:27.663339",
     "status": "completed"
    },
    "tags": []
   },
   "outputs": [],
   "source": [
    "if not PRUNE:\n",
    "    if TRAIN or not TRAIN_LOAD:\n",
    "        # save results\n",
    "        results_copy = copy.deepcopy(results)\n",
    "        org_data_copy = copy.deepcopy(org_data)\n",
    "        results_copy.append(org_data_copy)\n",
    "\n",
    "        for r in results_copy:\n",
    "            r['stats'] = r['stats'].to_json(orient='records')\n",
    "\n",
    "        with open(TEST_JSON, 'w') as json_file:\n",
    "            json.dump(results_copy, json_file, indent=4)  \n",
    "    else:\n",
    "        # load results\n",
    "        with open(TEST_JSON, 'r') as json_file:\n",
    "            results = json.load(json_file)\n",
    "\n",
    "            for r in results:\n",
    "                r['stats'] = pd.read_json(StringIO(r['stats']), orient='records')\n",
    "\n",
    "            org_data = results.pop()\n",
    "\n",
    "# print(results[0].keys())\n",
    "# print(type(org_data['stats']))"
   ]
  },
  {
   "cell_type": "markdown",
   "id": "0ed98c6a",
   "metadata": {
    "papermill": {
     "duration": 0.023654,
     "end_time": "2024-06-05T11:07:27.744914",
     "exception": false,
     "start_time": "2024-06-05T11:07:27.721260",
     "status": "completed"
    },
    "tags": []
   },
   "source": [
    "### Graphing Tolerance vs Accuracy, Compression Ratio, Model Size"
   ]
  },
  {
   "cell_type": "code",
   "execution_count": 25,
   "id": "82c0d90f",
   "metadata": {
    "execution": {
     "iopub.execute_input": "2024-06-05T11:07:27.793408Z",
     "iopub.status.busy": "2024-06-05T11:07:27.793154Z",
     "iopub.status.idle": "2024-06-05T11:07:27.801286Z",
     "shell.execute_reply": "2024-06-05T11:07:27.800625Z"
    },
    "papermill": {
     "duration": 0.034523,
     "end_time": "2024-06-05T11:07:27.803070",
     "exception": false,
     "start_time": "2024-06-05T11:07:27.768547",
     "status": "completed"
    },
    "tags": []
   },
   "outputs": [],
   "source": [
    "if not PRUNE:\n",
    "    tolerances = [result[\"tolerance\"] for result in results]\n",
    "    accuracy = [result[\"test_accuracy\"] for result in results]\n",
    "    compression_ratios = [result[\"compression_ratio\"] for result in results]\n",
    "    model_sizes = [result[\"model_size\"] for result in results]\n",
    "\n",
    "    data = [\n",
    "        (accuracy, org_data['test_accuracy'], 'blue', 'Test Accuracy'),\n",
    "        (compression_ratios, org_data['compression_ratio'], 'green', 'Compression Ratio'),\n",
    "        (model_sizes, org_data['model_size'], 'red', 'Model Size (MB)'),\n",
    "    ]\n",
    "\n",
    "    for values, baseline, color, label in data:\n",
    "        plt.figure(figsize=(10, 6))\n",
    "\n",
    "        plt.plot(tolerances, values, color=color, marker='o', label=label)\n",
    "        plt.axhline(y=baseline, color='purple', linestyle='--', label=f'Baseline {label}')\n",
    "\n",
    "        plt.title(f'{label} vs Tolerance (Log Scale) with Baseline')\n",
    "        plt.xscale('log', base=2)\n",
    "        plt.xlabel('Tolerance (Log Scale)')\n",
    "        plt.ylabel(label)\n",
    "        plt.legend()\n",
    "        plt.grid(True)\n",
    "\n",
    "        plt.show()"
   ]
  },
  {
   "cell_type": "markdown",
   "id": "d1aa8f3a",
   "metadata": {
    "papermill": {
     "duration": 0.023783,
     "end_time": "2024-06-05T11:07:27.850777",
     "exception": false,
     "start_time": "2024-06-05T11:07:27.826994",
     "status": "completed"
    },
    "tags": []
   },
   "source": [
    "### Comparing Mean, Standard Deviation, Min, Max"
   ]
  },
  {
   "cell_type": "code",
   "execution_count": 26,
   "id": "c6bd4caa",
   "metadata": {
    "execution": {
     "iopub.execute_input": "2024-06-05T11:07:27.900508Z",
     "iopub.status.busy": "2024-06-05T11:07:27.900224Z",
     "iopub.status.idle": "2024-06-05T11:07:27.908662Z",
     "shell.execute_reply": "2024-06-05T11:07:27.907993Z"
    },
    "papermill": {
     "duration": 0.035579,
     "end_time": "2024-06-05T11:07:27.910478",
     "exception": false,
     "start_time": "2024-06-05T11:07:27.874899",
     "status": "completed"
    },
    "tags": []
   },
   "outputs": [],
   "source": [
    "if not PRUNE:\n",
    "\n",
    "    abs_mean = []\n",
    "    abs_sd = []\n",
    "    abs_min = []\n",
    "    abs_max = []\n",
    "    orig_stats = org_data['stats']\n",
    "\n",
    "    for tolerance, model_data in zip(tolerances, results):\n",
    "        comp = compare_model_stats(orig_stats, model_data['stats'])\n",
    "\n",
    "        abs_mean.append(comp['MSE Mean'].sum())\n",
    "        abs_sd.append(comp['MSE SD'].sum())  \n",
    "        abs_min.append(comp['MSE Min'].sum())\n",
    "        abs_max.append(comp['MSE Max'].sum())\n",
    "    \n",
    "    \n",
    "    # plotting\n",
    "    data = [\n",
    "        (abs_mean, 'blue', 'Mean'),\n",
    "        (abs_sd, 'green', 'Standard Deviation'),\n",
    "        (abs_min, 'red', 'Min'),\n",
    "        (abs_max, 'purple', 'Max')\n",
    "    ]\n",
    "\n",
    "    plt.figure(figsize=(10, 6))\n",
    "    plt.title(f'Tolerance vs Total Layer MSE for Mean, Standard Deviation, Min, and Max')\n",
    "    plt.xscale('log', base=2)\n",
    "    plt.xlabel('Tolerance (Log Scale)')\n",
    "    plt.ylabel('Total MSE')\n",
    "\n",
    "    for values, color, label in data:\n",
    "        plt.plot(tolerances, values, color=color, marker='o', label=label)\n",
    "\n",
    "\n",
    "    plt.legend()\n",
    "    plt.grid(True)\n",
    "    plt.show()"
   ]
  },
  {
   "cell_type": "markdown",
   "id": "02a38f18",
   "metadata": {
    "papermill": {
     "duration": 0.023941,
     "end_time": "2024-06-05T11:07:27.958321",
     "exception": false,
     "start_time": "2024-06-05T11:07:27.934380",
     "status": "completed"
    },
    "tags": []
   },
   "source": [
    "## Resources - Works Cited\n",
    "- https://blog.paperspace.com/vgg-from-scratch-pytorch/\n",
    "- https://pypi.org/project/zfpy/\n",
    "- https://pytorch.org/hub/pytorch_vision_vgg/\n",
    "- https://github.com/alex-grindrod/eblc-model-compression\n",
    "- https://github.com/LLNL/zfp"
   ]
  }
 ],
 "metadata": {
  "kaggle": {
   "accelerator": "gpu",
   "dataSources": [
    {
     "sourceId": 181577038,
     "sourceType": "kernelVersion"
    }
   ],
   "dockerImageVersionId": 30716,
   "isGpuEnabled": true,
   "isInternetEnabled": true,
   "language": "python",
   "sourceType": "notebook"
  },
  "kernelspec": {
   "display_name": "Python 3",
   "language": "python",
   "name": "python3"
  },
  "language_info": {
   "codemirror_mode": {
    "name": "ipython",
    "version": 3
   },
   "file_extension": ".py",
   "mimetype": "text/x-python",
   "name": "python",
   "nbconvert_exporter": "python",
   "pygments_lexer": "ipython3",
   "version": "3.10.13"
  },
  "papermill": {
   "default_parameters": {},
   "duration": 1379.769214,
   "end_time": "2024-06-05T11:07:30.135927",
   "environment_variables": {},
   "exception": null,
   "input_path": "__notebook__.ipynb",
   "output_path": "__notebook__.ipynb",
   "parameters": {},
   "start_time": "2024-06-05T10:44:30.366713",
   "version": "2.5.0"
  }
 },
 "nbformat": 4,
 "nbformat_minor": 5
}
