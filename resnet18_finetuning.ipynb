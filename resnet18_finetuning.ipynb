{
 "cells": [
  {
   "cell_type": "code",
   "execution_count": 1,
   "metadata": {},
   "outputs": [],
   "source": [
    "import sys\n",
    "sys.path.append('.')\n",
    "import pytorch_lightning as pl\n",
    "import torch\n",
    "from src import data_loaders\n",
    "from src.models import resnet_18\n",
    "from scripts.eval_resnet18 import eval\n",
    "from scripts.zfp_compress import zfp_compress\n",
    "\n",
    "device = torch.device('cpu')"
   ]
  },
  {
   "cell_type": "code",
   "execution_count": null,
   "metadata": {},
   "outputs": [],
   "source": [
    "original_model = resnet_18.ResNetLightning()\n",
    "ckpt = torch.load('models/resnet18_base_best-v1.ckpt', device=torch.device('gpu'))\n",
    "original_model.load_state_dict(ckpt)\n",
    "original_model.eval()"
   ]
  },
  {
   "cell_type": "code",
   "execution_count": null,
   "metadata": {},
   "outputs": [],
   "source": [
    "tolerance_values = [1/2**i for i in range(-2, 27)]\n",
    "results = list()\n",
    "test_loader = data_loaders.cifar10_loader(train=False, num_workers=4)\n",
    "\n",
    "accuracies = []\n",
    "compression_ratios = []\n",
    "model_sizes = []\n",
    "\n",
    "for tolerance in tolerance_values:\n",
    "    zfp_model, org_size, comp_size = zfp_compress(original_model, tolerance=tolerance)\n",
    "    trainer_zfp = pl.Trainer()\n",
    "    trials = trainer_zfp.test(zfp_model, dataloaders=test_loader)\n",
    "\n",
    "    #Metrics\n",
    "    accuracies.append(trials[0]['test_acc'])\n",
    "    compression_ratios.append(org_size / comp_size)\n",
    "    model_sizes.append(comp_size / 1024**2) #MB size\n",
    "\n"
   ]
  },
  {
   "cell_type": "code",
   "execution_count": 16,
   "metadata": {},
   "outputs": [],
   "source": [
    "# torch.save({'state_dict' : zfp_model.state_dict()}, \"models/zfp_resnet18.ckpt\")"
   ]
  },
  {
   "cell_type": "code",
   "execution_count": null,
   "metadata": {},
   "outputs": [],
   "source": []
  }
 ],
 "metadata": {
  "kernelspec": {
   "display_name": "CS190",
   "language": "python",
   "name": "python3"
  },
  "language_info": {
   "codemirror_mode": {
    "name": "ipython",
    "version": 3
   },
   "file_extension": ".py",
   "mimetype": "text/x-python",
   "name": "python",
   "nbconvert_exporter": "python",
   "pygments_lexer": "ipython3",
   "version": "3.12.3 | packaged by conda-forge | (main, Apr 15 2024, 18:38:13) [GCC 12.3.0]"
  },
  "orig_nbformat": 4,
  "vscode": {
   "interpreter": {
    "hash": "e56d5d8fbc40b99d088639442644372f400a8880925856bec895adf8500173e8"
   }
  }
 },
 "nbformat": 4,
 "nbformat_minor": 2
}
